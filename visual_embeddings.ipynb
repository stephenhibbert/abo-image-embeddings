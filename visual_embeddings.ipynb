{
 "cells": [
  {
   "cell_type": "markdown",
   "id": "1291a97b-7c4f-4fba-8b2a-a5c25a25d28c",
   "metadata": {},
   "source": [
    "# Visualise Embeddings\n",
    "\n",
    "Using the TensorBoard Embedding Projector, you can graphically represent high dimensional embeddings. This can be helpful in visualizing, examining, and understanding your embedding layers.\n",
    "\n",
    "What we are going to do:\n",
    "\n",
    "1) Download the ABO dataset\n",
    "2) Reformat it in the way the Hugging Face `datasets` library epects\n",
    "3) Resize the images to a shape the ML model expects\n",
    "4) Generate embeddings for each image using the chosen model\n",
    "5) Output the embeddings and tiny images in a format that tensorboard expects\n",
    "6) Visualise the embeddings in Tensorboard\n",
    "7) Compute some clustering metrics to evaluate the performance of the chosen embedding model on our dataset."
   ]
  },
  {
   "cell_type": "markdown",
   "id": "15d82c13-eef4-4a88-a151-10f4ecf33123",
   "metadata": {
    "tags": []
   },
   "source": [
    "You will need to add the necissary IAM policies to this notebook role... (WIP)"
   ]
  },
  {
   "cell_type": "markdown",
   "id": "ab657287-ec69-4e39-8e41-9a23eca99737",
   "metadata": {},
   "source": [
    "## Get the ABO dataset and reformat it"
   ]
  },
  {
   "cell_type": "code",
   "execution_count": null,
   "id": "c2eb7a73-5fea-4ed7-8ae2-aaaa2cfd79fe",
   "metadata": {
    "tags": []
   },
   "outputs": [],
   "source": [
    "! aws s3 cp s3://amazon-berkeley-objects/archives/abo-images-small.tar ."
   ]
  },
  {
   "cell_type": "code",
   "execution_count": null,
   "id": "b84f4e00-8113-4985-89b0-e84b1a94cf48",
   "metadata": {
    "tags": []
   },
   "outputs": [],
   "source": [
    "! tar -xf abo-images-small.tar"
   ]
  },
  {
   "cell_type": "code",
   "execution_count": 1,
   "id": "4b7d0f2f-ffca-48e3-8c6b-1cd1cacbeb64",
   "metadata": {
    "tags": []
   },
   "outputs": [],
   "source": [
    "! pip install -q -U pyathena"
   ]
  },
  {
   "cell_type": "code",
   "execution_count": 2,
   "id": "aaa82d27-4311-45fc-8a73-da2245532a2b",
   "metadata": {
    "tags": []
   },
   "outputs": [],
   "source": [
    "from pyathena import connect\n",
    "import pandas as pd\n",
    "\n",
    "# Create a connection to Athena\n",
    "conn = connect(s3_staging_dir='s3://demo-athena-stephibb/')\n",
    "\n",
    "# https://amazon-berkeley-objects.s3.amazonaws.com/index.html#explore\n",
    "def create_abo_listings ():\n",
    "    query = f\"\"\"\n",
    "    CREATE EXTERNAL TABLE IF NOT EXISTS `default`.`abo_listings` (\n",
    "      `brand` array < struct < language_tag:string, value:string >  >,\n",
    "      `bullet_point` array < struct < language_tag:string, value:string >  >,\n",
    "      `color` array < struct < language_tag:string, value:string >  >,\n",
    "      `color_code` array < string >,\n",
    "      `country` string,\n",
    "      `domain_name` string,\n",
    "      `fabric_type` array < struct < language_tag:string, value:string >  >,\n",
    "      `finish_type` array < struct < language_tag:string, value:string >  >,\n",
    "      `item_dimensions` struct < height:struct < normalized_value:struct < unit:string, value:float >,  value:float, unit:string >,  length:struct < normalized_value:struct < unit:string, value:float >,  value:float, unit:string >,  width:struct < normalized_value:struct < unit:string, value:float >,  value:float, unit:string >  >,\n",
    "      `item_id` string,\n",
    "      `item_keywords` array < struct < language_tag:string, value:string >  >,\n",
    "      `item_name` array < struct < language_tag:string, value:string >  >,\n",
    "      `item_shape` array < struct < language_tag:string, value:string >  >,\n",
    "      `item_weight` array < struct < normalized_value:struct < unit:string, value:float >,  value:float, unit:string >  >,\n",
    "      `main_image_id` string,\n",
    "      `marketplace` string,\n",
    "      `material` array < struct < language_tag:string, value:string >  >,\n",
    "      `model_name` array < struct < language_tag:string, value:string >  >,\n",
    "      `model_number` array < struct < language_tag:string, value:string >  >,\n",
    "      `model_year` array < struct < language_tag:string, value:string >  >,\n",
    "      `node` array < struct < node_id:bigint, path:string >  >,\n",
    "      `other_image_id` array < string >,\n",
    "      `pattern` array < struct < language_tag:string, value:string >  >,\n",
    "      `product_description` array < struct < language_tag:string, value:string >  >,\n",
    "      `product_type` array < struct < value:string >  >,\n",
    "      `spin_id` string,\n",
    "      `style` array < struct < language_tag:string, value:string >  >,\n",
    "      `3dmodel_id` string\n",
    "    )\n",
    "    ROW FORMAT SERDE\n",
    "      'org.openx.data.jsonserde.JsonSerDe'\n",
    "    WITH SERDEPROPERTIES (\n",
    "      'serialization.format' = '1'\n",
    "    )\n",
    "    LOCATION\n",
    "      's3://amazon-berkeley-objects/listings/metadata/'\n",
    "    TBLPROPERTIES (\n",
    "      'has_encrypted_data'='false'\n",
    "    )\n",
    "    \"\"\"\n",
    "    pd.read_sql(query, conn)\n",
    "    \n",
    "def create_abo_images ():\n",
    "    query = f\"\"\"\n",
    "    CREATE EXTERNAL TABLE IF NOT EXISTS `default`.`abo_images`(\n",
    "      `image_id` string,\n",
    "      `height` bigint,\n",
    "      `width` bigint,\n",
    "      `path` string\n",
    "    )\n",
    "    ROW FORMAT SERDE\n",
    "      'org.apache.hadoop.hive.serde2.lazy.LazySimpleSerDe'\n",
    "    WITH SERDEPROPERTIES (\n",
    "      'serialization.format' = ',',\n",
    "      'field.delim' = ',',\n",
    "      'skip.header.line.count'='1'\n",
    "    )\n",
    "    LOCATION\n",
    "      's3://amazon-berkeley-objects/images/metadata/'\n",
    "    TBLPROPERTIES (\n",
    "      'has_encrypted_data'='false'\n",
    "    )\n",
    "    \"\"\"\n",
    "    pd.read_sql(query, conn)\n",
    "\n",
    "\n",
    "def sample ():\n",
    "    query = f\"\"\"\n",
    "    SELECT product_type[1].value as product_type, main_image_id, abo_images.path\n",
    "    FROM abo_listings\n",
    "    INNER JOIN abo_images ON abo_listings.main_image_id=abo_images.image_id\n",
    "    WHERE product_type[1].value IN ('BASKET',\n",
    "    'COMPUTER',\n",
    "    'CONDITIONER',\n",
    "    'CLOCK',\n",
    "    'MEASURING_CUP',\n",
    "    'ICE_CUBE_TRAY',\n",
    "    'PILLOW',\n",
    "    'FOOD_PROCESSOR',\n",
    "    'SOFA',\n",
    "    'CHAIR',\n",
    "    'HAT',\n",
    "    'LAMP',\n",
    "    'BAKING_PAPER',\n",
    "    'PHONE',\n",
    "    'VACUUM_CLEANER',\n",
    "    'TOASTER',\n",
    "    'RUG',\n",
    "    'HEADPHONES',\n",
    "    'DESK',\n",
    "    'RADIO',\n",
    "    'PRINTER',\n",
    "    'JAR',\n",
    "    'BED',\n",
    "    'CUTTING_BOARD',\n",
    "    'SHAMPOO',\n",
    "    'CURTAIN',\n",
    "    'TOOTHBRUSH',\n",
    "    'BOTTLE_OPENER',\n",
    "    'SHOES',\n",
    "    'TELEVISION',\n",
    "    'DISHWASHER',\n",
    "    'CAN_OPENER',\n",
    "    'TABLE',\n",
    "    'BLANKET',\n",
    "    'BROOM',\n",
    "    'PAINT_BRUSH',\n",
    "    'LOCK',\n",
    "    'OFFICE_PRODUCTS',\n",
    "    'FOOD_SLICER',\n",
    "    'MARKING_PEN',\n",
    "    'BOTTLE_RACK',\n",
    "    'HAIR_BRUSH',\n",
    "    'MEDICATION',\n",
    "    'CONDIMENT',\n",
    "    'SHOWERHEAD',\n",
    "    'POWER_BANK',\n",
    "    'COOKIE',\n",
    "    'BOOKEND',\n",
    "    'SPEAKERS',\n",
    "    'COSMETIC_POWDER',\n",
    "    'ROWING_MACHINE',\n",
    "    'SNACK_FOOD_BAR',\n",
    "    'TERMINAL_BLOCK',\n",
    "    'PITCHER',\n",
    "    'AIR_COMPRESSOR',\n",
    "    'PRETZEL',\n",
    "    'THERMOS',\n",
    "    'LEOTARD',\n",
    "    'SPORT_RACKET',\n",
    "    'PUZZLES',\n",
    "    'DRINK_COASTER',\n",
    "    'MONITOR',\n",
    "    'CELLULAR_PHONE',\n",
    "    'EARMUFF',\n",
    "    'PORTABLE_AUDIO',\n",
    "    'BODY_LUBRICANT',\n",
    "    'AUTO_CHEMICAL',\n",
    "    'PLANTER',\n",
    "    'CLEANING_BRUSH',\n",
    "    'STAPLER',\n",
    "    'PORTABLE_STOVE',\n",
    "    'CAMERA_SUPPORT',\n",
    "    'PROTEIN_DRINK',\n",
    "    'PICTURE_FRAME',\n",
    "    'LITTER_BOX',\n",
    "    'TABLETOP_GAME',\n",
    "    'WRITING_BOARD',\n",
    "    'POT_HOLDER',\n",
    "    'BUCKET',\n",
    "    'TOWEL_HOLDER',\n",
    "    'LADDER',\n",
    "    'BAKING_CUP',\n",
    "    'BAKING_PAN',\n",
    "    'CANDLE',\n",
    "    'BOTTLE',\n",
    "    'GARLIC_PRESS',\n",
    "    'STORAGE_BAG',\n",
    "    'TIMER',\n",
    "    'CLOTHES_RACK',\n",
    "    'STORAGE_BOX',\n",
    "    'WALLET',\n",
    "    'BABY_BOTTLE',\n",
    "    'SLEEPING_BAG',\n",
    "    'FINEOTHER',\n",
    "    'MICROPHONE',\n",
    "    'BED_FRAME',\n",
    "    'WEIGH_SCALE',\n",
    "    'FLASH_DRIVE',\n",
    "    'NAIL_POLISH',\n",
    "    'SHOE_INSERT')\n",
    "    ORDER BY RAND()\n",
    "    \"\"\"\n",
    "    df = pd.read_sql(query, conn)\n",
    "    df.to_csv('sample.csv', index=False)"
   ]
  },
  {
   "cell_type": "code",
   "execution_count": 3,
   "id": "786bcba3-52f6-44dc-a705-60db86cceec3",
   "metadata": {
    "tags": []
   },
   "outputs": [
    {
     "name": "stderr",
     "output_type": "stream",
     "text": [
      "/tmp/ipykernel_8136/3061657889.py:51: UserWarning: pandas only supports SQLAlchemy connectable (engine/connection) or database string URI or sqlite3 DBAPI2 connection. Other DBAPI2 objects are not tested. Please consider using SQLAlchemy.\n",
      "  pd.read_sql(query, conn)\n",
      "/tmp/ipykernel_8136/3061657889.py:74: UserWarning: pandas only supports SQLAlchemy connectable (engine/connection) or database string URI or sqlite3 DBAPI2 connection. Other DBAPI2 objects are not tested. Please consider using SQLAlchemy.\n",
      "  pd.read_sql(query, conn)\n",
      "/tmp/ipykernel_8136/3061657889.py:184: UserWarning: pandas only supports SQLAlchemy connectable (engine/connection) or database string URI or sqlite3 DBAPI2 connection. Other DBAPI2 objects are not tested. Please consider using SQLAlchemy.\n",
      "  df = pd.read_sql(query, conn)\n"
     ]
    }
   ],
   "source": [
    "create_abo_listings()\n",
    "create_abo_images()\n",
    "sample()"
   ]
  },
  {
   "cell_type": "markdown",
   "id": "06c7aff5-907e-4bf3-973a-ac39679cb82d",
   "metadata": {},
   "source": [
    "You may wish to start by experimenting with a smaller subset of the full data"
   ]
  },
  {
   "cell_type": "code",
   "execution_count": 4,
   "id": "bbd93686-cddb-47e2-819b-80c13408bafe",
   "metadata": {
    "tags": []
   },
   "outputs": [],
   "source": [
    "import pandas as pd\n",
    "\n",
    "def save_random_1000_lines(input_filename, output_filename):\n",
    "    # Read the entire CSV file\n",
    "    df = pd.read_csv(input_filename)\n",
    "    \n",
    "    # Sample 1000 random lines from the DataFrame\n",
    "    df_sampled = df.sample(n=1000)\n",
    "\n",
    "    # Save the sampled DataFrame to a new CSV file\n",
    "    df_sampled.to_csv(output_filename, index=False)\n",
    "\n",
    "# Replace 'input.csv' with the path to your input CSV file\n",
    "# Replace 'output_random_1000_lines.csv' with the path where you want to save the new CSV file\n",
    "save_random_1000_lines('sample.csv', 'sample_1000.csv')\n"
   ]
  },
  {
   "cell_type": "markdown",
   "id": "558021e6-36d0-415e-9796-168fab9b3f0f",
   "metadata": {},
   "source": [
    "## Reformat the images\n",
    "Now we have a CSV file with the image IDs we want to create embeddings for, we reformat them and load as a `datasets` dataset"
   ]
  },
  {
   "cell_type": "code",
   "execution_count": 5,
   "id": "6e1811c5-fcdc-4b27-a6dc-3c17d7859e87",
   "metadata": {
    "tags": []
   },
   "outputs": [],
   "source": [
    "!pip install -U -q scikit-learn"
   ]
  },
  {
   "cell_type": "code",
   "execution_count": 6,
   "id": "7d3f0989-e589-4a35-a847-eff2b3b77de1",
   "metadata": {
    "tags": []
   },
   "outputs": [],
   "source": [
    "import os\n",
    "import shutil\n",
    "import pandas as pd\n",
    "from sklearn.model_selection import train_test_split\n",
    "\n",
    "def read_csv(file_path):\n",
    "    \"\"\"Read and return the CSV data.\"\"\"\n",
    "    if os.path.exists(file_path):\n",
    "        return pd.read_csv(file_path)\n",
    "    else:\n",
    "        raise FileNotFoundError(f\"File {file_path} not found!\")\n",
    "\n",
    "def create_directory(directory_path):\n",
    "    \"\"\"Create a directory if it doesn't exist.\"\"\"\n",
    "    if not os.path.exists(directory_path):\n",
    "        os.makedirs(directory_path)\n",
    "\n",
    "def move_images(data, base_dir):\n",
    "    \"\"\"Process and move images to the specified directory.\"\"\"\n",
    "    for _, row in data.iterrows():\n",
    "        product_type_dir = os.path.join(base_dir, row['product_type'].lower())\n",
    "        new_image_name = f\"{row['main_image_id'].lower()}.png\"\n",
    "        new_path = os.path.join(product_type_dir, new_image_name)\n",
    "        \n",
    "        # Create product type directory if it doesn't exist\n",
    "        create_directory(product_type_dir)\n",
    "        \n",
    "        # Move the image if the source exists\n",
    "        source_path = f\"images/small/{row['path']}\"\n",
    "        if os.path.exists(source_path):\n",
    "            shutil.copy(source_path, new_path)\n",
    "\n",
    "def process_dataset(csv_file_path, train_dir, test_dir, test_size=0.20):\n",
    "    \"\"\"Split the data into train and test sets and move images.\"\"\"\n",
    "    # Read the CSV data\n",
    "    csv_data = read_csv(csv_file_path)\n",
    "    \n",
    "    # Split the data\n",
    "    train_data, test_data = train_test_split(csv_data, test_size=test_size, random_state=42)\n",
    "    \n",
    "    # Create base directories\n",
    "    create_directory(train_dir)\n",
    "    create_directory(test_dir)\n",
    "    \n",
    "    # Move train and test images\n",
    "    move_images(train_data, train_dir)\n",
    "    move_images(test_data, test_dir)\n",
    "\n",
    "# Sample usage\n",
    "csv_file_path = \"sample_1000.csv\"\n",
    "train_directory = \"products/train\"\n",
    "test_directory = \"products/test\"\n",
    "process_dataset(csv_file_path, train_directory, test_directory)"
   ]
  },
  {
   "cell_type": "code",
   "execution_count": 7,
   "id": "d2ab96fd-9cd8-43fd-99b6-0fb791216e16",
   "metadata": {
    "tags": []
   },
   "outputs": [],
   "source": [
    "! pip install -U -q tensorboard datasets transformers"
   ]
  },
  {
   "cell_type": "code",
   "execution_count": 8,
   "id": "b91ad531-e217-43ea-bc07-9486af63cd30",
   "metadata": {
    "tags": []
   },
   "outputs": [
    {
     "data": {
      "application/vnd.jupyter.widget-view+json": {
       "model_id": "cc35e4408909437e94926f247b32d285",
       "version_major": 2,
       "version_minor": 0
      },
      "text/plain": [
       "preprocessor_config.json:   0%|          | 0.00/316 [00:00<?, ?B/s]"
      ]
     },
     "metadata": {},
     "output_type": "display_data"
    },
    {
     "data": {
      "application/vnd.jupyter.widget-view+json": {
       "model_id": "1d4add05ad9d42bbaf81e58748cfd182",
       "version_major": 2,
       "version_minor": 0
      },
      "text/plain": [
       "tokenizer_config.json:   0%|          | 0.00/568 [00:00<?, ?B/s]"
      ]
     },
     "metadata": {},
     "output_type": "display_data"
    },
    {
     "data": {
      "application/vnd.jupyter.widget-view+json": {
       "model_id": "ff5197789e25480188d098cb44ece933",
       "version_major": 2,
       "version_minor": 0
      },
      "text/plain": [
       "vocab.json:   0%|          | 0.00/862k [00:00<?, ?B/s]"
      ]
     },
     "metadata": {},
     "output_type": "display_data"
    },
    {
     "data": {
      "application/vnd.jupyter.widget-view+json": {
       "model_id": "c37ea202619942028fbec895cf719256",
       "version_major": 2,
       "version_minor": 0
      },
      "text/plain": [
       "merges.txt:   0%|          | 0.00/525k [00:00<?, ?B/s]"
      ]
     },
     "metadata": {},
     "output_type": "display_data"
    },
    {
     "data": {
      "application/vnd.jupyter.widget-view+json": {
       "model_id": "717f34d9f76943db977ab751293188b3",
       "version_major": 2,
       "version_minor": 0
      },
      "text/plain": [
       "tokenizer.json:   0%|          | 0.00/2.22M [00:00<?, ?B/s]"
      ]
     },
     "metadata": {},
     "output_type": "display_data"
    },
    {
     "data": {
      "application/vnd.jupyter.widget-view+json": {
       "model_id": "86bc77d4206344aa9d17733df895315d",
       "version_major": 2,
       "version_minor": 0
      },
      "text/plain": [
       "special_tokens_map.json:   0%|          | 0.00/389 [00:00<?, ?B/s]"
      ]
     },
     "metadata": {},
     "output_type": "display_data"
    },
    {
     "data": {
      "application/vnd.jupyter.widget-view+json": {
       "model_id": "3ae6706eb99645b5adad5f32b5b993e9",
       "version_major": 2,
       "version_minor": 0
      },
      "text/plain": [
       "config.json:   0%|          | 0.00/4.19k [00:00<?, ?B/s]"
      ]
     },
     "metadata": {},
     "output_type": "display_data"
    },
    {
     "data": {
      "application/vnd.jupyter.widget-view+json": {
       "model_id": "4ef3cd2073cb4052999f2f0e35ea215d",
       "version_major": 2,
       "version_minor": 0
      },
      "text/plain": [
       "pytorch_model.bin:   0%|          | 0.00/605M [00:00<?, ?B/s]"
      ]
     },
     "metadata": {},
     "output_type": "display_data"
    },
    {
     "data": {
      "application/vnd.jupyter.widget-view+json": {
       "model_id": "d7c009b54f814e92bbead622bb821641",
       "version_major": 2,
       "version_minor": 0
      },
      "text/plain": [
       "Resolving data files:   0%|          | 0/830 [00:00<?, ?it/s]"
      ]
     },
     "metadata": {},
     "output_type": "display_data"
    },
    {
     "data": {
      "application/vnd.jupyter.widget-view+json": {
       "model_id": "0eac3a2d512240cc8b0509eda947fae6",
       "version_major": 2,
       "version_minor": 0
      },
      "text/plain": [
       "Resolving data files:   0%|          | 0/217 [00:00<?, ?it/s]"
      ]
     },
     "metadata": {},
     "output_type": "display_data"
    },
    {
     "data": {
      "application/vnd.jupyter.widget-view+json": {
       "model_id": "4222b9ea4c7d43e0959d7d93334e1dfd",
       "version_major": 2,
       "version_minor": 0
      },
      "text/plain": [
       "Downloading data files:   0%|          | 0/830 [00:00<?, ?it/s]"
      ]
     },
     "metadata": {},
     "output_type": "display_data"
    },
    {
     "data": {
      "application/vnd.jupyter.widget-view+json": {
       "model_id": "c9925fa7bbf5446abdf850d76d9053dc",
       "version_major": 2,
       "version_minor": 0
      },
      "text/plain": [
       "Downloading data files: 0it [00:00, ?it/s]"
      ]
     },
     "metadata": {},
     "output_type": "display_data"
    },
    {
     "data": {
      "application/vnd.jupyter.widget-view+json": {
       "model_id": "0b394feb5db64502a6bf691a76dcabea",
       "version_major": 2,
       "version_minor": 0
      },
      "text/plain": [
       "Extracting data files: 0it [00:00, ?it/s]"
      ]
     },
     "metadata": {},
     "output_type": "display_data"
    },
    {
     "data": {
      "application/vnd.jupyter.widget-view+json": {
       "model_id": "4314c7dc8d6746738b58fe0b2c1d8062",
       "version_major": 2,
       "version_minor": 0
      },
      "text/plain": [
       "Downloading data files:   0%|          | 0/1 [00:00<?, ?it/s]"
      ]
     },
     "metadata": {},
     "output_type": "display_data"
    },
    {
     "data": {
      "application/vnd.jupyter.widget-view+json": {
       "model_id": "a96f56df2d5c485f9e133813f92fae06",
       "version_major": 2,
       "version_minor": 0
      },
      "text/plain": [
       "Downloading data files: 0it [00:00, ?it/s]"
      ]
     },
     "metadata": {},
     "output_type": "display_data"
    },
    {
     "data": {
      "application/vnd.jupyter.widget-view+json": {
       "model_id": "9287bc927ad1487c84d687cf9ea12e22",
       "version_major": 2,
       "version_minor": 0
      },
      "text/plain": [
       "Extracting data files: 0it [00:00, ?it/s]"
      ]
     },
     "metadata": {},
     "output_type": "display_data"
    },
    {
     "data": {
      "application/vnd.jupyter.widget-view+json": {
       "model_id": "ac02b848c7b04c399ff0db40d1eea2b0",
       "version_major": 2,
       "version_minor": 0
      },
      "text/plain": [
       "Downloading data files:   0%|          | 0/217 [00:00<?, ?it/s]"
      ]
     },
     "metadata": {},
     "output_type": "display_data"
    },
    {
     "data": {
      "application/vnd.jupyter.widget-view+json": {
       "model_id": "7d062ba4a04b4b95932c0cc8317daf4b",
       "version_major": 2,
       "version_minor": 0
      },
      "text/plain": [
       "Downloading data files: 0it [00:00, ?it/s]"
      ]
     },
     "metadata": {},
     "output_type": "display_data"
    },
    {
     "data": {
      "application/vnd.jupyter.widget-view+json": {
       "model_id": "ae9832a09c5c4032ad0acfaa79e65bd7",
       "version_major": 2,
       "version_minor": 0
      },
      "text/plain": [
       "Extracting data files: 0it [00:00, ?it/s]"
      ]
     },
     "metadata": {},
     "output_type": "display_data"
    },
    {
     "data": {
      "application/vnd.jupyter.widget-view+json": {
       "model_id": "9b0edc11cc934a1a99d060c97ae22f8a",
       "version_major": 2,
       "version_minor": 0
      },
      "text/plain": [
       "Generating train split: 0 examples [00:00, ? examples/s]"
      ]
     },
     "metadata": {},
     "output_type": "display_data"
    },
    {
     "data": {
      "application/vnd.jupyter.widget-view+json": {
       "model_id": "31d025a5fbf94e3bbb89037d18de60cd",
       "version_major": 2,
       "version_minor": 0
      },
      "text/plain": [
       "Generating validation split: 0 examples [00:00, ? examples/s]"
      ]
     },
     "metadata": {},
     "output_type": "display_data"
    },
    {
     "data": {
      "application/vnd.jupyter.widget-view+json": {
       "model_id": "30eb0b50c1ed4ba6995b0e4b51ad7ed2",
       "version_major": 2,
       "version_minor": 0
      },
      "text/plain": [
       "Generating test split: 0 examples [00:00, ? examples/s]"
      ]
     },
     "metadata": {},
     "output_type": "display_data"
    },
    {
     "data": {
      "application/vnd.jupyter.widget-view+json": {
       "model_id": "36a7b577e9554b07afc7d1e4d13daad1",
       "version_major": 2,
       "version_minor": 0
      },
      "text/plain": [
       "Map:   0%|          | 0/830 [00:00<?, ? examples/s]"
      ]
     },
     "metadata": {},
     "output_type": "display_data"
    },
    {
     "name": "stdout",
     "output_type": "stream",
     "text": [
      "Embeddings generated.\n"
     ]
    }
   ],
   "source": [
    "from datasets import load_dataset\n",
    "import torch\n",
    "from transformers import CLIPProcessor, CLIPModel\n",
    "import torchvision.transforms as T\n",
    "from PIL import Image\n",
    "from torchvision import transforms\n",
    "\n",
    "batch_size=24\n",
    "\n",
    "# Model and transformation setup\n",
    "model_ckpt = \"openai/clip-vit-base-patch32\"\n",
    "processor = CLIPProcessor.from_pretrained(model_ckpt)\n",
    "model = CLIPModel.from_pretrained(model_ckpt)\n",
    "\n",
    "device = \"cuda\" if torch.cuda.is_available() else \"cpu\"\n",
    "\n",
    "# Dummy text input\n",
    "dummy_texts = [\"a photo\"] * batch_size\n",
    "dummy_text_inputs = processor(text=dummy_texts, return_tensors=\"pt\", padding=True).to(device)\n",
    "\n",
    "# Load dataset\n",
    "ds = load_dataset(\"imagefolder\", data_dir=\"./products\", split=\"train\")\n",
    "\n",
    "# Extract embeddings function definition\n",
    "def extract_embeddings(model: torch.nn.Module, processor: CLIPProcessor, dummy_text_inputs):\n",
    "    \"\"\"Utility to compute embeddings.\"\"\"\n",
    "    device = model.device\n",
    "    def pp(batch):\n",
    "        images = batch[\"image\"]\n",
    "        inputs = processor(images=images, return_tensors=\"pt\", padding=True)\n",
    "        inputs = {k: v.to(device) for k, v in inputs.items()}\n",
    "        inputs[\"input_ids\"] = dummy_text_inputs[\"input_ids\"]\n",
    "        inputs[\"attention_mask\"] = dummy_text_inputs[\"attention_mask\"]\n",
    "        with torch.no_grad():\n",
    "            outputs = model(**inputs)\n",
    "        return {\"embeddings\": outputs.image_embeds.cpu()}\n",
    "    return pp\n",
    "\n",
    "# Generate embeddings\n",
    "extract_fn = extract_embeddings(model.to(device), processor, dummy_text_inputs)\n",
    "emb = ds.map(extract_fn, batched=True, batch_size=24)\n",
    "print(\"Embeddings generated.\")"
   ]
  },
  {
   "cell_type": "code",
   "execution_count": 9,
   "id": "a0cff625-93cf-47e4-86f7-1e46422925a6",
   "metadata": {
    "tags": []
   },
   "outputs": [],
   "source": [
    "def convert_to_3_channels(img):\n",
    "    if img.mode == 'L':\n",
    "        img = img.convert(\"RGB\")\n",
    "    return img\n",
    "\n",
    "def create_image_tensor(dataset_dict):\n",
    "    # Define a transformation pipeline: Convert to RGB, resize, then convert to tensor\n",
    "    transform = transforms.Compose([\n",
    "        transforms.Lambda(lambda img: img.convert(\"RGB\")),  # Convert to RGB\n",
    "        transforms.Resize((64, 64)),\n",
    "        transforms.ToTensor()\n",
    "    ])\n",
    "\n",
    "    # Extract and transform images from train, validation, and test splits\n",
    "    images = [transform(img) for img in dataset_dict['image']]\n",
    "    \n",
    "    all_images = torch.stack(images)\n",
    "    \n",
    "    return all_images"
   ]
  },
  {
   "cell_type": "code",
   "execution_count": 10,
   "id": "50d18cbe-3593-4d5d-97be-005932ea6214",
   "metadata": {
    "tags": []
   },
   "outputs": [
    {
     "name": "stdout",
     "output_type": "stream",
     "text": [
      "Shape of embeddings: torch.Size([830, 512])\n",
      "torch.Size([830, 3, 64, 64])\n",
      "Embeddings logged to TensorBoard.\n",
      "Writer closed.\n"
     ]
    }
   ],
   "source": [
    "from torch.utils.tensorboard import SummaryWriter\n",
    "\n",
    "# Convert each inner list to a tensor\n",
    "tensor_embeddings = [torch.tensor(inner_list) for inner_list in emb[\"embeddings\"]]\n",
    "embeddings = torch.stack(tensor_embeddings, dim=0)\n",
    "print(f\"Shape of embeddings: {embeddings.shape}\")\n",
    "\n",
    "labels = ds.features[\"label\"].names\n",
    "label2id, id2label = dict(), dict()\n",
    "\n",
    "for i, label in enumerate(labels):\n",
    "    label2id[label] = i\n",
    "    id2label[i] = label\n",
    "\n",
    "metadata = [id2label[i] for i in ds[\"label\"]]\n",
    "\n",
    "image_tensor = create_image_tensor(ds)\n",
    "\n",
    "print(image_tensor.shape)\n",
    "\n",
    "# Initialize TensorBoard writer\n",
    "output_dir = \"products-1000\"\n",
    "writer = SummaryWriter(output_dir)\n",
    "\n",
    "writer.add_embedding(\n",
    "    mat=embeddings,\n",
    "    metadata=metadata,\n",
    "    label_img=image_tensor,  # Passing the tensor directly\n",
    "    tag=\"ViT Embeddings\"\n",
    ")\n",
    "print(\"Embeddings logged to TensorBoard.\")\n",
    "\n",
    "# Close the writer\n",
    "writer.close()\n",
    "print(\"Writer closed.\")"
   ]
  },
  {
   "cell_type": "markdown",
   "id": "25dd20bd-1da7-44fa-bfa2-9050e08d68a6",
   "metadata": {},
   "source": [
    "Now we can open a terminal shell and run tensorboard, pointing to the output directory.\n",
    "\n",
    "`pip install tensorboard`\n",
    "\n",
    "`tensorboard --logdir products-1000`\n",
    "\n",
    "Now duplicate this tab and add `/proxy/6006/ on the end. Don't forget the last forward slash`\n",
    "\n",
    "`https://dbz-shs7.notebook.eu-west-1.sagemaker.aws/proxy/6006`"
   ]
  },
  {
   "cell_type": "code",
   "execution_count": 36,
   "id": "0d4f2737-27d5-465e-bf23-8b36eaefbd69",
   "metadata": {
    "tags": []
   },
   "outputs": [
    {
     "name": "stdout",
     "output_type": "stream",
     "text": [
      "Files 'embeddings.pth' and 'metadata.txt' saved.\n"
     ]
    }
   ],
   "source": [
    "# Save the embeddings and metadata to files\n",
    "torch.save(embeddings, 'embeddings.pth')\n",
    "with open('metadata.txt', 'w') as f:\n",
    "    for label in metadata:\n",
    "        f.write(f\"{label}\\n\")\n",
    "\n",
    "print(\"Files 'embeddings.pth' and 'metadata.txt' saved.\")"
   ]
  },
  {
   "cell_type": "code",
   "execution_count": 11,
   "id": "bf3d9267-fd7d-4fff-9e4d-6634f51dd659",
   "metadata": {
    "tags": []
   },
   "outputs": [
    {
     "data": {
      "text/plain": [
       "Dataset({\n",
       "    features: ['image', 'label', 'embeddings'],\n",
       "    num_rows: 830\n",
       "})"
      ]
     },
     "execution_count": 11,
     "metadata": {},
     "output_type": "execute_result"
    }
   ],
   "source": [
    "emb"
   ]
  },
  {
   "cell_type": "markdown",
   "id": "c51f8c92-06d0-4965-a198-784712cbe871",
   "metadata": {},
   "source": [
    "# Evaluating the clustering"
   ]
  },
  {
   "cell_type": "markdown",
   "id": "33cc9fa3-b01e-4da0-90f6-82bd8cab1887",
   "metadata": {},
   "source": [
    "Since we have the ground-truth labels for our image catagories, we can be more rigorous in our evaluation of the clustering. Let's plot the reduced dimentional vectors in 2D and calculate some common metrics."
   ]
  },
  {
   "cell_type": "code",
   "execution_count": 13,
   "id": "5ff8123f-5326-4b03-976b-60bc2e427fe5",
   "metadata": {
    "tags": []
   },
   "outputs": [],
   "source": [
    "import torch\n",
    "import numpy as np\n",
    "import matplotlib.pyplot as plt\n",
    "from sklearn.manifold import TSNE\n",
    "from sklearn import metrics\n",
    "from sklearn.cluster import KMeans\n",
    "\n",
    "# Function to load TSV file\n",
    "def load_tsv(file_path):\n",
    "    with open(file_path, 'r') as file:\n",
    "        lines = file.readlines()\n",
    "        data = [line.strip().split('\\t') for line in lines]\n",
    "    return data\n",
    "\n",
    "# Function to convert a list of lists (where inner lists are string representations of numbers) to a PyTorch tensor\n",
    "def convert_to_tensor(data):\n",
    "    return torch.tensor([[float(value) for value in row] for row in data])\n",
    "\n",
    "# Function to perform t-SNE reduction and plot with metrics\n",
    "def plot_tsne_with_metrics(embeddings, labels, metrics_text, plot_title, save_path=None):\n",
    "    tsne = TSNE(n_components=2, random_state=42)\n",
    "    reduced_embeddings = tsne.fit_transform(embeddings)\n",
    "    plt.figure(figsize=(12, 8))\n",
    "    unique_labels = np.unique(labels)\n",
    "    colors = plt.cm.rainbow(np.linspace(0, 1, len(unique_labels)))\n",
    "    for i, label in enumerate(unique_labels):\n",
    "        idxs = np.array(labels) == label\n",
    "        plt.scatter(reduced_embeddings[idxs, 0], reduced_embeddings[idxs, 1], label=label, color=colors[i])\n",
    "    plt.legend(loc='center left', bbox_to_anchor=(1, 0.5), markerscale=1)\n",
    "    plt.title(plot_title)\n",
    "    plt.xlabel(\"t-SNE feature 1\")\n",
    "    plt.ylabel(\"t-SNE feature 2\")\n",
    "    # Place metrics text on the plot\n",
    "    plt.figtext(0.5, -0.2, metrics_text, ha=\"center\", fontsize=12, bbox={\"facecolor\":\"orange\", \"alpha\":0.5, \"pad\":5})\n",
    "    if save_path:\n",
    "        plt.savefig(save_path, dpi=100, bbox_inches=\"tight\", pad_inches=1)\n",
    "    plt.show()\n",
    "\n",
    "# Function to calculate clustering metrics\n",
    "def calculate_clustering_metrics(embeddings, true_labels, predicted_labels):\n",
    "    ari = metrics.adjusted_rand_score(true_labels, predicted_labels)\n",
    "    homogeneity = metrics.homogeneity_score(true_labels, predicted_labels)\n",
    "    completeness = metrics.completeness_score(true_labels, predicted_labels)\n",
    "    v_measure = metrics.v_measure_score(true_labels, predicted_labels)\n",
    "    silhouette = metrics.silhouette_score(embeddings, predicted_labels, metric='euclidean')\n",
    "    metrics_text = f\"Adjusted Rand Index: {ari:.3f}\\n\"\n",
    "    metrics_text += f\"Homogeneity: {homogeneity:.3f}\\n\"\n",
    "    metrics_text += f\"Completeness: {completeness:.3f}\\n\"\n",
    "    metrics_text += f\"V-Measure: {v_measure:.3f}\\n\"\n",
    "    metrics_text += f\"Silhouette Score: {silhouette:.3f}\"\n",
    "    print(metrics_text.replace(\"\\n\", \" \"))\n",
    "    return metrics_text\n"
   ]
  },
  {
   "cell_type": "code",
   "execution_count": 15,
   "id": "13d6fe6a-ad14-44bd-b076-d6bba15612d8",
   "metadata": {
    "tags": []
   },
   "outputs": [],
   "source": [
    "# Parameters for easy change for different experiments\n",
    "BASE_PATHS = ['products-1000/00000/ViT Embeddings']\n",
    "MODELS = ['openai/clip-vit-base-patch32']"
   ]
  },
  {
   "cell_type": "code",
   "execution_count": 16,
   "id": "f978b90c-8dee-4cfa-a433-1d69da581131",
   "metadata": {
    "tags": []
   },
   "outputs": [
    {
     "name": "stdout",
     "output_type": "stream",
     "text": [
      "openai/clip-vit-base-patch32\n",
      "Loaded 830 embeddings and 830 labels.\n"
     ]
    },
    {
     "name": "stderr",
     "output_type": "stream",
     "text": [
      "/home/ec2-user/anaconda3/envs/pytorch_p310/lib/python3.10/site-packages/sklearn/cluster/_kmeans.py:1416: FutureWarning: The default value of `n_init` will change from 10 to 'auto' in 1.4. Set the value of `n_init` explicitly to suppress the warning\n",
      "  super()._check_params_vs_input(X, default_n_init=10)\n"
     ]
    },
    {
     "name": "stdout",
     "output_type": "stream",
     "text": [
      "Adjusted Rand Index: 0.089 Homogeneity: 0.814 Completeness: 0.442 V-Measure: 0.573 Silhouette Score: 0.084\n"
     ]
    },
    {
     "data": {
      "image/png": "[encoded data removed]",
      "text/plain": [
       "<Figure size 1200x800 with 1 Axes>"
      ]
     },
     "metadata": {},
     "output_type": "display_data"
    }
   ],
   "source": [
    "i = 0\n",
    "for BASE_PATH in BASE_PATHS:\n",
    "    print(MODELS[i])\n",
    "    # Load data and convert to embeddings and labels\n",
    "    tensor_file_path = f'{BASE_PATH}/tensors.tsv'\n",
    "    tensor_data = load_tsv(tensor_file_path)\n",
    "    embeddings = convert_to_tensor(tensor_data)\n",
    "    metadata_file_path = f'{BASE_PATH}/metadata.tsv'\n",
    "    metadata_data = load_tsv(metadata_file_path)\n",
    "    metadata = [row[0] for row in metadata_data]  # Adjust if metadata has a different structure\n",
    "    print(f\"Loaded {len(embeddings)} embeddings and {len(metadata)} labels.\")\n",
    "\n",
    "    # Perform KMeans clustering\n",
    "    kmeans = KMeans(n_clusters=len(np.unique(metadata)), random_state=42).fit(embeddings)\n",
    "    predicted_labels = kmeans.labels_\n",
    "\n",
    "    # Calculate clustering metrics\n",
    "    metrics_text = calculate_clustering_metrics(embeddings, metadata, predicted_labels)\n",
    "\n",
    "    # Perform t-SNE and plot with metrics\n",
    "    plot_title = f\"{MODELS[i]} Embedding space t-SNE projection with clustering metrics\"\n",
    "    plot_tsne_with_metrics(embeddings, metadata, metrics_text, plot_title, MODELS[i].split(\"/\")[1])\n",
    "    i += 1"
   ]
  },
  {
   "cell_type": "markdown",
   "id": "eee0e27e-4bf7-4beb-bcf9-c1632b7003e0",
   "metadata": {
    "tags": []
   },
   "source": [
    "# Clustering Metrics Explanation\n",
    "\n",
    "## 1. Adjusted Rand Index (ARI)\n",
    "- **Value**: 0.089\n",
    "- **Explanation**: Measures the similarity between two clusterings, adjusted for chance. ARI ranges from 1 (perfect) to negative values (less than random).\n",
    "- **Interpretation**: An ARI of 0.089 indicates slight alignment with true labels, but close to random chance, suggesting relatively poor performance.\n",
    "\n",
    "## 2. Homogeneity\n",
    "- **Value**: 0.814\n",
    "- **Explanation**: Assesses if each cluster contains only members of a single class. Scores range from 1 (perfect homogeneity) to 0.\n",
    "- **Interpretation**: A high score of 0.814 suggests good internal consistency within clusters.\n",
    "\n",
    "## 3. Completeness\n",
    "- **Value**: 0.442\n",
    "- **Explanation**: Measures if all members of a given class are assigned to the same cluster. Scores range from 1 (all members of a class in one cluster) to 0.\n",
    "- **Interpretation**: A score of 0.442 indicates moderate performance in grouping all class members into a single cluster.\n",
    "\n",
    "## 4. V-Measure\n",
    "- **Value**: 0.573\n",
    "- **Explanation**: The harmonic mean of homogeneity and completeness, providing an overall measure of clustering quality.\n",
    "- **Interpretation**: A V-Measure of 0.573 indicates average performance, balancing homogeneity and completeness.\n",
    "\n",
    "## 5. Silhouette Score\n",
    "- **Value**: 0.084\n",
    "- **Explanation**: Measures the similarity of an object to its own cluster compared to other clusters, ranging from -1 (incorrect) to +1 (highly dense). A score around 0 indicates overlapping clusters.\n",
    "- **Interpretation**: A score of 0.084 suggests poorly defined clusters with considerable overlap or closeness, indicating poor clustering quality.\n",
    "\n",
    "# Summary\n",
    "These metrics collectively indicate that while clusters are internally consistent (high homogeneity), they do not effectively encapsulate all class members (moderate completeness) and lack clear separation (low silhouette score). The overall clustering performance (V-Measure) is average, with alignment to true labels slightly better than random (ARI).\n",
    "\n",
    "This may well be sufficient for some use-cases, for example image similarity search where getting an exact match all the time is not critcal since you can return a selection of results in the user interface and have a human do the final selection - ignoring false positives. Try swapping out the embedding model and see if you can improve clustering performance.\n"
   ]
  }
 ],
 "metadata": {
  "availableInstances": [
   {
    "_defaultOrder": 0,
    "_isFastLaunch": true,
    "category": "General purpose",
    "gpuNum": 0,
    "hideHardwareSpecs": false,
    "memoryGiB": 4,
    "name": "ml.t3.medium",
    "vcpuNum": 2
   },
   {
    "_defaultOrder": 1,
    "_isFastLaunch": false,
    "category": "General purpose",
    "gpuNum": 0,
    "hideHardwareSpecs": false,
    "memoryGiB": 8,
    "name": "ml.t3.large",
    "vcpuNum": 2
   },
   {
    "_defaultOrder": 2,
    "_isFastLaunch": false,
    "category": "General purpose",
    "gpuNum": 0,
    "hideHardwareSpecs": false,
    "memoryGiB": 16,
    "name": "ml.t3.xlarge",
    "vcpuNum": 4
   },
   {
    "_defaultOrder": 3,
    "_isFastLaunch": false,
    "category": "General purpose",
    "gpuNum": 0,
    "hideHardwareSpecs": false,
    "memoryGiB": 32,
    "name": "ml.t3.2xlarge",
    "vcpuNum": 8
   },
   {
    "_defaultOrder": 4,
    "_isFastLaunch": true,
    "category": "General purpose",
    "gpuNum": 0,
    "hideHardwareSpecs": false,
    "memoryGiB": 8,
    "name": "ml.m5.large",
    "vcpuNum": 2
   },
   {
    "_defaultOrder": 5,
    "_isFastLaunch": false,
    "category": "General purpose",
    "gpuNum": 0,
    "hideHardwareSpecs": false,
    "memoryGiB": 16,
    "name": "ml.m5.xlarge",
    "vcpuNum": 4
   },
   {
    "_defaultOrder": 6,
    "_isFastLaunch": false,
    "category": "General purpose",
    "gpuNum": 0,
    "hideHardwareSpecs": false,
    "memoryGiB": 32,
    "name": "ml.m5.2xlarge",
    "vcpuNum": 8
   },
   {
    "_defaultOrder": 7,
    "_isFastLaunch": false,
    "category": "General purpose",
    "gpuNum": 0,
    "hideHardwareSpecs": false,
    "memoryGiB": 64,
    "name": "ml.m5.4xlarge",
    "vcpuNum": 16
   },
   {
    "_defaultOrder": 8,
    "_isFastLaunch": false,
    "category": "General purpose",
    "gpuNum": 0,
    "hideHardwareSpecs": false,
    "memoryGiB": 128,
    "name": "ml.m5.8xlarge",
    "vcpuNum": 32
   },
   {
    "_defaultOrder": 9,
    "_isFastLaunch": false,
    "category": "General purpose",
    "gpuNum": 0,
    "hideHardwareSpecs": false,
    "memoryGiB": 192,
    "name": "ml.m5.12xlarge",
    "vcpuNum": 48
   },
   {
    "_defaultOrder": 10,
    "_isFastLaunch": false,
    "category": "General purpose",
    "gpuNum": 0,
    "hideHardwareSpecs": false,
    "memoryGiB": 256,
    "name": "ml.m5.16xlarge",
    "vcpuNum": 64
   },
   {
    "_defaultOrder": 11,
    "_isFastLaunch": false,
    "category": "General purpose",
    "gpuNum": 0,
    "hideHardwareSpecs": false,
    "memoryGiB": 384,
    "name": "ml.m5.24xlarge",
    "vcpuNum": 96
   },
   {
    "_defaultOrder": 12,
    "_isFastLaunch": false,
    "category": "General purpose",
    "gpuNum": 0,
    "hideHardwareSpecs": false,
    "memoryGiB": 8,
    "name": "ml.m5d.large",
    "vcpuNum": 2
   },
   {
    "_defaultOrder": 13,
    "_isFastLaunch": false,
    "category": "General purpose",
    "gpuNum": 0,
    "hideHardwareSpecs": false,
    "memoryGiB": 16,
    "name": "ml.m5d.xlarge",
    "vcpuNum": 4
   },
   {
    "_defaultOrder": 14,
    "_isFastLaunch": false,
    "category": "General purpose",
    "gpuNum": 0,
    "hideHardwareSpecs": false,
    "memoryGiB": 32,
    "name": "ml.m5d.2xlarge",
    "vcpuNum": 8
   },
   {
    "_defaultOrder": 15,
    "_isFastLaunch": false,
    "category": "General purpose",
    "gpuNum": 0,
    "hideHardwareSpecs": false,
    "memoryGiB": 64,
    "name": "ml.m5d.4xlarge",
    "vcpuNum": 16
   },
   {
    "_defaultOrder": 16,
    "_isFastLaunch": false,
    "category": "General purpose",
    "gpuNum": 0,
    "hideHardwareSpecs": false,
    "memoryGiB": 128,
    "name": "ml.m5d.8xlarge",
    "vcpuNum": 32
   },
   {
    "_defaultOrder": 17,
    "_isFastLaunch": false,
    "category": "General purpose",
    "gpuNum": 0,
    "hideHardwareSpecs": false,
    "memoryGiB": 192,
    "name": "ml.m5d.12xlarge",
    "vcpuNum": 48
   },
   {
    "_defaultOrder": 18,
    "_isFastLaunch": false,
    "category": "General purpose",
    "gpuNum": 0,
    "hideHardwareSpecs": false,
    "memoryGiB": 256,
    "name": "ml.m5d.16xlarge",
    "vcpuNum": 64
   },
   {
    "_defaultOrder": 19,
    "_isFastLaunch": false,
    "category": "General purpose",
    "gpuNum": 0,
    "hideHardwareSpecs": false,
    "memoryGiB": 384,
    "name": "ml.m5d.24xlarge",
    "vcpuNum": 96
   },
   {
    "_defaultOrder": 20,
    "_isFastLaunch": false,
    "category": "General purpose",
    "gpuNum": 0,
    "hideHardwareSpecs": true,
    "memoryGiB": 0,
    "name": "ml.geospatial.interactive",
    "supportedImageNames": [
     "sagemaker-geospatial-v1-0"
    ],
    "vcpuNum": 0
   },
   {
    "_defaultOrder": 21,
    "_isFastLaunch": true,
    "category": "Compute optimized",
    "gpuNum": 0,
    "hideHardwareSpecs": false,
    "memoryGiB": 4,
    "name": "ml.c5.large",
    "vcpuNum": 2
   },
   {
    "_defaultOrder": 22,
    "_isFastLaunch": false,
    "category": "Compute optimized",
    "gpuNum": 0,
    "hideHardwareSpecs": false,
    "memoryGiB": 8,
    "name": "ml.c5.xlarge",
    "vcpuNum": 4
   },
   {
    "_defaultOrder": 23,
    "_isFastLaunch": false,
    "category": "Compute optimized",
    "gpuNum": 0,
    "hideHardwareSpecs": false,
    "memoryGiB": 16,
    "name": "ml.c5.2xlarge",
    "vcpuNum": 8
   },
   {
    "_defaultOrder": 24,
    "_isFastLaunch": false,
    "category": "Compute optimized",
    "gpuNum": 0,
    "hideHardwareSpecs": false,
    "memoryGiB": 32,
    "name": "ml.c5.4xlarge",
    "vcpuNum": 16
   },
   {
    "_defaultOrder": 25,
    "_isFastLaunch": false,
    "category": "Compute optimized",
    "gpuNum": 0,
    "hideHardwareSpecs": false,
    "memoryGiB": 72,
    "name": "ml.c5.9xlarge",
    "vcpuNum": 36
   },
   {
    "_defaultOrder": 26,
    "_isFastLaunch": false,
    "category": "Compute optimized",
    "gpuNum": 0,
    "hideHardwareSpecs": false,
    "memoryGiB": 96,
    "name": "ml.c5.12xlarge",
    "vcpuNum": 48
   },
   {
    "_defaultOrder": 27,
    "_isFastLaunch": false,
    "category": "Compute optimized",
    "gpuNum": 0,
    "hideHardwareSpecs": false,
    "memoryGiB": 144,
    "name": "ml.c5.18xlarge",
    "vcpuNum": 72
   },
   {
    "_defaultOrder": 28,
    "_isFastLaunch": false,
    "category": "Compute optimized",
    "gpuNum": 0,
    "hideHardwareSpecs": false,
    "memoryGiB": 192,
    "name": "ml.c5.24xlarge",
    "vcpuNum": 96
   },
   {
    "_defaultOrder": 29,
    "_isFastLaunch": true,
    "category": "Accelerated computing",
    "gpuNum": 1,
    "hideHardwareSpecs": false,
    "memoryGiB": 16,
    "name": "ml.g4dn.xlarge",
    "vcpuNum": 4
   },
   {
    "_defaultOrder": 30,
    "_isFastLaunch": false,
    "category": "Accelerated computing",
    "gpuNum": 1,
    "hideHardwareSpecs": false,
    "memoryGiB": 32,
    "name": "ml.g4dn.2xlarge",
    "vcpuNum": 8
   },
   {
    "_defaultOrder": 31,
    "_isFastLaunch": false,
    "category": "Accelerated computing",
    "gpuNum": 1,
    "hideHardwareSpecs": false,
    "memoryGiB": 64,
    "name": "ml.g4dn.4xlarge",
    "vcpuNum": 16
   },
   {
    "_defaultOrder": 32,
    "_isFastLaunch": false,
    "category": "Accelerated computing",
    "gpuNum": 1,
    "hideHardwareSpecs": false,
    "memoryGiB": 128,
    "name": "ml.g4dn.8xlarge",
    "vcpuNum": 32
   },
   {
    "_defaultOrder": 33,
    "_isFastLaunch": false,
    "category": "Accelerated computing",
    "gpuNum": 4,
    "hideHardwareSpecs": false,
    "memoryGiB": 192,
    "name": "ml.g4dn.12xlarge",
    "vcpuNum": 48
   },
   {
    "_defaultOrder": 34,
    "_isFastLaunch": false,
    "category": "Accelerated computing",
    "gpuNum": 1,
    "hideHardwareSpecs": false,
    "memoryGiB": 256,
    "name": "ml.g4dn.16xlarge",
    "vcpuNum": 64
   },
   {
    "_defaultOrder": 35,
    "_isFastLaunch": false,
    "category": "Accelerated computing",
    "gpuNum": 1,
    "hideHardwareSpecs": false,
    "memoryGiB": 61,
    "name": "ml.p3.2xlarge",
    "vcpuNum": 8
   },
   {
    "_defaultOrder": 36,
    "_isFastLaunch": false,
    "category": "Accelerated computing",
    "gpuNum": 4,
    "hideHardwareSpecs": false,
    "memoryGiB": 244,
    "name": "ml.p3.8xlarge",
    "vcpuNum": 32
   },
   {
    "_defaultOrder": 37,
    "_isFastLaunch": false,
    "category": "Accelerated computing",
    "gpuNum": 8,
    "hideHardwareSpecs": false,
    "memoryGiB": 488,
    "name": "ml.p3.16xlarge",
    "vcpuNum": 64
   },
   {
    "_defaultOrder": 38,
    "_isFastLaunch": false,
    "category": "Accelerated computing",
    "gpuNum": 8,
    "hideHardwareSpecs": false,
    "memoryGiB": 768,
    "name": "ml.p3dn.24xlarge",
    "vcpuNum": 96
   },
   {
    "_defaultOrder": 39,
    "_isFastLaunch": false,
    "category": "Memory Optimized",
    "gpuNum": 0,
    "hideHardwareSpecs": false,
    "memoryGiB": 16,
    "name": "ml.r5.large",
    "vcpuNum": 2
   },
   {
    "_defaultOrder": 40,
    "_isFastLaunch": false,
    "category": "Memory Optimized",
    "gpuNum": 0,
    "hideHardwareSpecs": false,
    "memoryGiB": 32,
    "name": "ml.r5.xlarge",
    "vcpuNum": 4
   },
   {
    "_defaultOrder": 41,
    "_isFastLaunch": false,
    "category": "Memory Optimized",
    "gpuNum": 0,
    "hideHardwareSpecs": false,
    "memoryGiB": 64,
    "name": "ml.r5.2xlarge",
    "vcpuNum": 8
   },
   {
    "_defaultOrder": 42,
    "_isFastLaunch": false,
    "category": "Memory Optimized",
    "gpuNum": 0,
    "hideHardwareSpecs": false,
    "memoryGiB": 128,
    "name": "ml.r5.4xlarge",
    "vcpuNum": 16
   },
   {
    "_defaultOrder": 43,
    "_isFastLaunch": false,
    "category": "Memory Optimized",
    "gpuNum": 0,
    "hideHardwareSpecs": false,
    "memoryGiB": 256,
    "name": "ml.r5.8xlarge",
    "vcpuNum": 32
   },
   {
    "_defaultOrder": 44,
    "_isFastLaunch": false,
    "category": "Memory Optimized",
    "gpuNum": 0,
    "hideHardwareSpecs": false,
    "memoryGiB": 384,
    "name": "ml.r5.12xlarge",
    "vcpuNum": 48
   },
   {
    "_defaultOrder": 45,
    "_isFastLaunch": false,
    "category": "Memory Optimized",
    "gpuNum": 0,
    "hideHardwareSpecs": false,
    "memoryGiB": 512,
    "name": "ml.r5.16xlarge",
    "vcpuNum": 64
   },
   {
    "_defaultOrder": 46,
    "_isFastLaunch": false,
    "category": "Memory Optimized",
    "gpuNum": 0,
    "hideHardwareSpecs": false,
    "memoryGiB": 768,
    "name": "ml.r5.24xlarge",
    "vcpuNum": 96
   },
   {
    "_defaultOrder": 47,
    "_isFastLaunch": false,
    "category": "Accelerated computing",
    "gpuNum": 1,
    "hideHardwareSpecs": false,
    "memoryGiB": 16,
    "name": "ml.g5.xlarge",
    "vcpuNum": 4
   },
   {
    "_defaultOrder": 48,
    "_isFastLaunch": false,
    "category": "Accelerated computing",
    "gpuNum": 1,
    "hideHardwareSpecs": false,
    "memoryGiB": 32,
    "name": "ml.g5.2xlarge",
    "vcpuNum": 8
   },
   {
    "_defaultOrder": 49,
    "_isFastLaunch": false,
    "category": "Accelerated computing",
    "gpuNum": 1,
    "hideHardwareSpecs": false,
    "memoryGiB": 64,
    "name": "ml.g5.4xlarge",
    "vcpuNum": 16
   },
   {
    "_defaultOrder": 50,
    "_isFastLaunch": false,
    "category": "Accelerated computing",
    "gpuNum": 1,
    "hideHardwareSpecs": false,
    "memoryGiB": 128,
    "name": "ml.g5.8xlarge",
    "vcpuNum": 32
   },
   {
    "_defaultOrder": 51,
    "_isFastLaunch": false,
    "category": "Accelerated computing",
    "gpuNum": 1,
    "hideHardwareSpecs": false,
    "memoryGiB": 256,
    "name": "ml.g5.16xlarge",
    "vcpuNum": 64
   },
   {
    "_defaultOrder": 52,
    "_isFastLaunch": false,
    "category": "Accelerated computing",
    "gpuNum": 4,
    "hideHardwareSpecs": false,
    "memoryGiB": 192,
    "name": "ml.g5.12xlarge",
    "vcpuNum": 48
   },
   {
    "_defaultOrder": 53,
    "_isFastLaunch": false,
    "category": "Accelerated computing",
    "gpuNum": 4,
    "hideHardwareSpecs": false,
    "memoryGiB": 384,
    "name": "ml.g5.24xlarge",
    "vcpuNum": 96
   },
   {
    "_defaultOrder": 54,
    "_isFastLaunch": false,
    "category": "Accelerated computing",
    "gpuNum": 8,
    "hideHardwareSpecs": false,
    "memoryGiB": 768,
    "name": "ml.g5.48xlarge",
    "vcpuNum": 192
   },
   {
    "_defaultOrder": 55,
    "_isFastLaunch": false,
    "category": "Accelerated computing",
    "gpuNum": 8,
    "hideHardwareSpecs": false,
    "memoryGiB": 1152,
    "name": "ml.p4d.24xlarge",
    "vcpuNum": 96
   },
   {
    "_defaultOrder": 56,
    "_isFastLaunch": false,
    "category": "Accelerated computing",
    "gpuNum": 8,
    "hideHardwareSpecs": false,
    "memoryGiB": 1152,
    "name": "ml.p4de.24xlarge",
    "vcpuNum": 96
   }
  ],
  "instance_type": "ml.g5.xlarge",
  "kernelspec": {
   "display_name": "conda_pytorch_p310",
   "language": "python",
   "name": "conda_pytorch_p310"
  },
  "language_info": {
   "codemirror_mode": {
    "name": "ipython",
    "version": 3
   },
   "file_extension": ".py",
   "mimetype": "text/x-python",
   "name": "python",
   "nbconvert_exporter": "python",
   "pygments_lexer": "ipython3",
   "version": "3.10.13"
  }
 },
 "nbformat": 4,
 "nbformat_minor": 5
}
